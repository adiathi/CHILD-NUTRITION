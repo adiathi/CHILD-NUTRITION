{
 "cells": [
  {
   "cell_type": "markdown",
   "id": "44038710",
   "metadata": {},
   "source": [
    "# CHILD-NUTRITION # "
   ]
  },
  {
   "cell_type": "code",
   "execution_count": 4,
   "id": "924a24ba",
   "metadata": {},
   "outputs": [
    {
     "name": "stdout",
     "output_type": "stream",
     "text": [
      "Enter Your Name : Peter Parker\n",
      "Enter your Age : 7\n",
      "Enter your Height : 45\n",
      "Enter your Weight : 60\n",
      "Enter your Milk intake : 300\n",
      "Enter your Vegetable intake : 300\n",
      "Enter your Meat intake : 200\n",
      "Enter your Lentils intake : 100\n",
      "Enter your Egg intake : 300\n",
      "Enter your Rice intake : 300\n",
      "BMI of  Peter Parker  is 20.83  and he (she) is Healthy\n",
      "The Daily calorie consumption of Peter Parker is 1809.0 and he (she) is not undernourished\n"
     ]
    }
   ],
   "source": [
    "#creating function for BMI Calculator \n",
    "def Bmical(a, b):\n",
    "    bmi = round(((a/(b**2))*703),2)\n",
    "    return bmi\n",
    "\n",
    "\n",
    "#taking User input for Basic Info :\n",
    "\n",
    "name = input(\"Enter Your Name : \")\n",
    "age = int(input(\"Enter your Age : \"))\n",
    "ht= int(input(\"Enter your Height : \"))\n",
    "wg= int(input(\"Enter your Weight : \"))\n",
    "\n",
    "bmi = Bmical(wg, ht)\n",
    "\n",
    "\n",
    "#taking User input for food intake\n",
    "\n",
    "milk= int(input(\"Enter your Milk intake : \"))\n",
    "veg= int(input(\"Enter your Vegetable intake : \"))\n",
    "meat= int(input(\"Enter your Meat intake : \"))\n",
    "lent= int(input(\"Enter your Lentils intake : \"))\n",
    "egg= int(input(\"Enter your Egg intake : \"))\n",
    "rice= milk= int(input(\"Enter your Rice intake : \"))\n",
    "\n",
    "#Calcualting Calories Intake \n",
    "\n",
    "calin= milk*(1)+ veg*(85/100)+  meat*(143/100) + lent*(113/100)+ egg*(155/100)+ rice*(130/100) \n",
    "\n",
    "if(bmi< 16):\n",
    "    print(\"BMI of \",name,\" is\",bmi,\" and he (she) is\", \"Severely Underweight.\")\n",
    "elif(bmi>=16 and bmi<18.5):\n",
    "    print(\"BMI of \",name,\" is\",bmi,\" and he (she) is\", \"Underweight.\")\n",
    "elif(bmi>=18.5 and bmi<25):\n",
    "     print(\"BMI of \",name,\" is\",bmi,\" and he (she) is\", \"Healthy.\" )\n",
    "elif(bmi>=25 and bmi<30):\n",
    "    print(\"BMI of \",name,\" is\",bmi,\" and he (she) is\", \"Overweight.\" )\n",
    "else:\n",
    "    print(\"BMI of \",name,\" is\",bmi,\" and he (she) is\", \"Obese.\" )\n",
    "    \n",
    "if(age>=0 and age<2 and calin<800):\n",
    "    print(\"The Daily calorie consumption of \",name,\" is \",calin,\" and he (she) is undernourished.\")\n",
    "elif(age>=0 and age<2 and calin>=800):\n",
    "    print(\"The Daily calorie consumption of \",name,\" is \",calin,\" and he (she) is not undernourished.\")\n",
    "elif(age>=2 and age<4 and calin<1400):\n",
    "    print(\"The Daily calorie consumption of\",name,\"is \",calin,\"and he (she) is undernourished.\")\n",
    "elif(age>=2 and age<4 and calin>=1400):\n",
    "    print(\"The Daily calorie consumption of\",name,\"is\",calin,\"and he (she) is not undernourished.\")\n",
    "elif(age>=4 and age<8 and calin<1800):\n",
    "    print(\"The Daily calorie consumption of\",name,\"is\",calin,\"and he (she) is undernourished.\")   \n",
    "elif(age>=4 and age<8 and calin>1800):\n",
    "    print(\"The Daily calorie consumption of\",name,\"is\",calin,\"and he (she) is not undernourished.\")\n",
    "\n"
   ]
  },
  {
   "cell_type": "code",
   "execution_count": null,
   "id": "d9f6e5c6",
   "metadata": {},
   "outputs": [],
   "source": []
  }
 ],
 "metadata": {
  "kernelspec": {
   "display_name": "Python 3 (ipykernel)",
   "language": "python",
   "name": "python3"
  },
  "language_info": {
   "codemirror_mode": {
    "name": "ipython",
    "version": 3
   },
   "file_extension": ".py",
   "mimetype": "text/x-python",
   "name": "python",
   "nbconvert_exporter": "python",
   "pygments_lexer": "ipython3",
   "version": "3.9.7"
  }
 },
 "nbformat": 4,
 "nbformat_minor": 5
}
