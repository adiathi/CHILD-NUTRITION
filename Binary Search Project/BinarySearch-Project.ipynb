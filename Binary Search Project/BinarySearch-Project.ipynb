{
 "cells": [
  {
   "cell_type": "markdown",
   "id": "1c556819",
   "metadata": {},
   "source": [
    "## Binary Search Function ##"
   ]
  },
  {
   "cell_type": "code",
   "execution_count": 2,
   "id": "97944d71",
   "metadata": {},
   "outputs": [],
   "source": [
    "# here I'm defining function binsearch\n",
    "\n",
    "def binsearch(arr, x):\n",
    "    # initializing low and high as fisrt and last element of list respectively \n",
    "    low = 0\n",
    "    high = len(arr) - 1\n",
    "    mid = 0\n",
    "    \n",
    "    #Starting a while loop for searching in that list with breaking condition when low became large then high\n",
    "    \n",
    "    while low <= high:\n",
    "        \n",
    "        # Calculating mid as mis element of list \n",
    "        \n",
    "        mid = (high + low) // 2\n",
    "        \n",
    "        # if our searched element is greater then the current mid then we will again search in right part of list with low value mid+1\n",
    "        if arr[mid] < x:\n",
    "            low = mid + 1\n",
    "            \n",
    "        # if our searched element is less then the current mid then we will again search in left part of list with high value mid-1\n",
    "        elif arr[mid] > x:\n",
    "            high = mid - 1\n",
    "            \n",
    "            \n",
    "        # else if our mid is equal then searched element then we will return that index\n",
    "        else:\n",
    "            return print(\"We Found Your element at index: \",mid)\n",
    "    \n",
    "    # in above while part if we didn't get that element then we will print this statement \n",
    "    return print(\"Sorry! this element is not avalible\")\n",
    " "
   ]
  },
  {
   "cell_type": "markdown",
   "id": "b4dc30ac",
   "metadata": {},
   "source": [
    "## Main Body ##"
   ]
  },
  {
   "cell_type": "code",
   "execution_count": 9,
   "id": "433678ad",
   "metadata": {},
   "outputs": [
    {
     "name": "stdout",
     "output_type": "stream",
     "text": [
      "Enter The Number you want to search: 97\n",
      "We Found Your element at index:  9\n"
     ]
    }
   ],
   "source": [
    "import random\n",
    "\n",
    "# Here i'm taking a randome value btw the range 0-100 and storing that value in randomval\n",
    "randomval =random.choice(range(0,101))\n",
    "\n",
    "# now I'm  creating a list with range randomval-100 wiht step of 2 \n",
    "lst=[i for i in range(randomval,101,2)]\n",
    "\n",
    "# taking random input from 0-100 fro searching \n",
    "n= int(input(\"Enter The Number you want to search: \"))\n",
    "\n",
    "# calling my finction for bianry search will given input\n",
    "binsearch(lst,n)\n"
   ]
  },
  {
   "cell_type": "code",
   "execution_count": null,
   "id": "af0833bb",
   "metadata": {},
   "outputs": [],
   "source": []
  }
 ],
 "metadata": {
  "kernelspec": {
   "display_name": "Python 3 (ipykernel)",
   "language": "python",
   "name": "python3"
  },
  "language_info": {
   "codemirror_mode": {
    "name": "ipython",
    "version": 3
   },
   "file_extension": ".py",
   "mimetype": "text/x-python",
   "name": "python",
   "nbconvert_exporter": "python",
   "pygments_lexer": "ipython3",
   "version": "3.9.7"
  }
 },
 "nbformat": 4,
 "nbformat_minor": 5
}
